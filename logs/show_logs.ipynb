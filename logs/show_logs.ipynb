{
 "cells": [
  {
   "cell_type": "code",
   "execution_count": null,
   "id": "0df088b4",
   "metadata": {},
   "outputs": [],
   "source": [
    "import sqlite3\n",
    "import pandas.io.sql as sqlio\n",
    "import json"
   ]
  },
  {
   "cell_type": "code",
   "execution_count": null,
   "id": "49462a4c",
   "metadata": {},
   "outputs": [],
   "source": [
    "cur_dir = '/home/vyg/work/code/repa/work_code/logs/'"
   ]
  },
  {
   "cell_type": "code",
   "execution_count": null,
   "id": "862c3db6",
   "metadata": {},
   "outputs": [],
   "source": []
  },
  {
   "cell_type": "code",
   "execution_count": null,
   "id": "6a1bd80e",
   "metadata": {},
   "outputs": [],
   "source": [
    "# Получаем место нахождения базы данных с логами\n",
    "with open(f'{cur_dir}/conf.json', 'r') as setg:\n",
    "    data_setg = json.load(setg)\n",
    "dir_logs = data_setg['dir_db_logs']"
   ]
  },
  {
   "cell_type": "code",
   "execution_count": null,
   "id": "e71cc2db",
   "metadata": {},
   "outputs": [],
   "source": [
    "con = sqlite3.connect('/home/vyg/work/data/logs/logs.db')"
   ]
  },
  {
   "cell_type": "code",
   "execution_count": null,
   "id": "690f3aff",
   "metadata": {},
   "outputs": [],
   "source": [
    "df_logs = sqlio.read_sql_query('select * from logs_t where date(date_time) = current_date', con)\n",
    "ls_proc = df_logs.proc_name.drop_duplicates().reset_index(drop=True)\n",
    "print(ls_proc, '\\n')"
   ]
  },
  {
   "cell_type": "code",
   "execution_count": null,
   "id": "d0d9106a",
   "metadata": {},
   "outputs": [],
   "source": [
    "proc_name = ls_proc[int(input('Номер отчета.\\n-->'))]\n",
    "df_logs.query('proc_name == @proc_name').sort_values('date_time', ascending=True)"
   ]
  }
 ],
 "metadata": {
  "kernelspec": {
   "display_name": "workcode",
   "language": "python",
   "name": "python3"
  },
  "language_info": {
   "codemirror_mode": {
    "name": "ipython",
    "version": 3
   },
   "file_extension": ".py",
   "mimetype": "text/x-python",
   "name": "python",
   "nbconvert_exporter": "python",
   "pygments_lexer": "ipython3",
   "version": "3.13.2"
  }
 },
 "nbformat": 4,
 "nbformat_minor": 5
}
